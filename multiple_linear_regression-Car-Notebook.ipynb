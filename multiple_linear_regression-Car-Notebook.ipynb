{
 "cells": [
  {
   "cell_type": "markdown",
   "metadata": {
    "colab_type": "text",
    "id": "CazISR8X_HUG"
   },
   "source": [
    "# Multiple Linear Regression- Car dataset"
   ]
  },
  {
   "cell_type": "markdown",
   "metadata": {
    "colab_type": "text",
    "id": "pOyqYHTk_Q57"
   },
   "source": [
    "## Importing the libraries"
   ]
  },
  {
   "cell_type": "code",
   "execution_count": 1,
   "metadata": {},
   "outputs": [],
   "source": [
    "import numpy as np\n",
    "import pandas as pd\n",
    "import matplotlib.pyplot as plt\n",
    "import seaborn as sns"
   ]
  },
  {
   "cell_type": "markdown",
   "metadata": {
    "colab_type": "text",
    "id": "vgC61-ah_WIz"
   },
   "source": [
    "## Importing the dataset"
   ]
  },
  {
   "cell_type": "code",
   "execution_count": 2,
   "metadata": {},
   "outputs": [],
   "source": [
    "dataset=pd.read_csv('CAR.csv')"
   ]
  },
  {
   "cell_type": "code",
   "execution_count": 4,
   "metadata": {},
   "outputs": [
    {
     "data": {
      "text/html": [
       "<div>\n",
       "<style scoped>\n",
       "    .dataframe tbody tr th:only-of-type {\n",
       "        vertical-align: middle;\n",
       "    }\n",
       "\n",
       "    .dataframe tbody tr th {\n",
       "        vertical-align: top;\n",
       "    }\n",
       "\n",
       "    .dataframe thead th {\n",
       "        text-align: right;\n",
       "    }\n",
       "</style>\n",
       "<table border=\"1\" class=\"dataframe\">\n",
       "  <thead>\n",
       "    <tr style=\"text-align: right;\">\n",
       "      <th></th>\n",
       "      <th>year</th>\n",
       "      <th>selling_price</th>\n",
       "      <th>km_driven</th>\n",
       "      <th>fuel</th>\n",
       "      <th>seller_type</th>\n",
       "      <th>transmission</th>\n",
       "      <th>owner</th>\n",
       "    </tr>\n",
       "  </thead>\n",
       "  <tbody>\n",
       "    <tr>\n",
       "      <th>0</th>\n",
       "      <td>2007</td>\n",
       "      <td>60000</td>\n",
       "      <td>70000</td>\n",
       "      <td>Petrol</td>\n",
       "      <td>Individual</td>\n",
       "      <td>Manual</td>\n",
       "      <td>First Owner</td>\n",
       "    </tr>\n",
       "    <tr>\n",
       "      <th>1</th>\n",
       "      <td>2007</td>\n",
       "      <td>135000</td>\n",
       "      <td>50000</td>\n",
       "      <td>Petrol</td>\n",
       "      <td>Individual</td>\n",
       "      <td>Manual</td>\n",
       "      <td>First Owner</td>\n",
       "    </tr>\n",
       "    <tr>\n",
       "      <th>2</th>\n",
       "      <td>2012</td>\n",
       "      <td>600000</td>\n",
       "      <td>100000</td>\n",
       "      <td>Diesel</td>\n",
       "      <td>Individual</td>\n",
       "      <td>Manual</td>\n",
       "      <td>First Owner</td>\n",
       "    </tr>\n",
       "    <tr>\n",
       "      <th>3</th>\n",
       "      <td>2017</td>\n",
       "      <td>250000</td>\n",
       "      <td>46000</td>\n",
       "      <td>Petrol</td>\n",
       "      <td>Individual</td>\n",
       "      <td>Manual</td>\n",
       "      <td>First Owner</td>\n",
       "    </tr>\n",
       "    <tr>\n",
       "      <th>4</th>\n",
       "      <td>2014</td>\n",
       "      <td>450000</td>\n",
       "      <td>141000</td>\n",
       "      <td>Diesel</td>\n",
       "      <td>Individual</td>\n",
       "      <td>Manual</td>\n",
       "      <td>Second Owner</td>\n",
       "    </tr>\n",
       "  </tbody>\n",
       "</table>\n",
       "</div>"
      ],
      "text/plain": [
       "   year  selling_price  km_driven    fuel seller_type transmission  \\\n",
       "0  2007          60000      70000  Petrol  Individual       Manual   \n",
       "1  2007         135000      50000  Petrol  Individual       Manual   \n",
       "2  2012         600000     100000  Diesel  Individual       Manual   \n",
       "3  2017         250000      46000  Petrol  Individual       Manual   \n",
       "4  2014         450000     141000  Diesel  Individual       Manual   \n",
       "\n",
       "          owner  \n",
       "0   First Owner  \n",
       "1   First Owner  \n",
       "2   First Owner  \n",
       "3   First Owner  \n",
       "4  Second Owner  "
      ]
     },
     "execution_count": 4,
     "metadata": {},
     "output_type": "execute_result"
    }
   ],
   "source": [
    "dataset.head()"
   ]
  },
  {
   "cell_type": "code",
   "execution_count": 5,
   "metadata": {},
   "outputs": [
    {
     "name": "stdout",
     "output_type": "stream",
     "text": [
      "<class 'pandas.core.frame.DataFrame'>\n",
      "RangeIndex: 4337 entries, 0 to 4336\n",
      "Data columns (total 7 columns):\n",
      " #   Column         Non-Null Count  Dtype \n",
      "---  ------         --------------  ----- \n",
      " 0   year           4337 non-null   int64 \n",
      " 1   selling_price  4337 non-null   int64 \n",
      " 2   km_driven      4337 non-null   int64 \n",
      " 3   fuel           4337 non-null   object\n",
      " 4   seller_type    4337 non-null   object\n",
      " 5   transmission   4337 non-null   object\n",
      " 6   owner          4337 non-null   object\n",
      "dtypes: int64(3), object(4)\n",
      "memory usage: 237.3+ KB\n"
     ]
    }
   ],
   "source": [
    "dataset.info()"
   ]
  },
  {
   "cell_type": "code",
   "execution_count": 7,
   "metadata": {},
   "outputs": [
    {
     "data": {
      "text/plain": [
       "Diesel      2151\n",
       "Petrol      2122\n",
       "CNG           40\n",
       "LPG           23\n",
       "Electric       1\n",
       "Name: fuel, dtype: int64"
      ]
     },
     "execution_count": 7,
     "metadata": {},
     "output_type": "execute_result"
    }
   ],
   "source": [
    "dataset['fuel'].value_counts()"
   ]
  },
  {
   "cell_type": "code",
   "execution_count": 8,
   "metadata": {},
   "outputs": [
    {
     "data": {
      "text/plain": [
       "Individual          3242\n",
       "Dealer               993\n",
       "Trustmark Dealer     102\n",
       "Name: seller_type, dtype: int64"
      ]
     },
     "execution_count": 8,
     "metadata": {},
     "output_type": "execute_result"
    }
   ],
   "source": [
    "dataset['seller_type'].value_counts()"
   ]
  },
  {
   "cell_type": "code",
   "execution_count": 9,
   "metadata": {},
   "outputs": [
    {
     "data": {
      "text/plain": [
       "Manual       3889\n",
       "Automatic     448\n",
       "Name: transmission, dtype: int64"
      ]
     },
     "execution_count": 9,
     "metadata": {},
     "output_type": "execute_result"
    }
   ],
   "source": [
    "dataset['transmission'].value_counts()"
   ]
  },
  {
   "cell_type": "code",
   "execution_count": 10,
   "metadata": {},
   "outputs": [
    {
     "data": {
      "text/plain": [
       "First Owner             2831\n",
       "Second Owner            1104\n",
       "Third Owner              304\n",
       "Fourth & Above Owner      81\n",
       "Test Drive Car            17\n",
       "Name: owner, dtype: int64"
      ]
     },
     "execution_count": 10,
     "metadata": {},
     "output_type": "execute_result"
    }
   ],
   "source": [
    "dataset['owner'].value_counts()"
   ]
  },
  {
   "cell_type": "markdown",
   "metadata": {},
   "source": [
    "### Split the dataset into independent and Dependent variables"
   ]
  },
  {
   "cell_type": "code",
   "execution_count": 13,
   "metadata": {},
   "outputs": [],
   "source": [
    "X=dataset.drop('selling_price',axis=1)\n",
    "y=dataset[['selling_price']]"
   ]
  },
  {
   "cell_type": "markdown",
   "metadata": {},
   "source": [
    "### Work with the catagorical data"
   ]
  },
  {
   "cell_type": "code",
   "execution_count": 14,
   "metadata": {},
   "outputs": [
    {
     "data": {
      "text/plain": [
       "Index(['year', 'km_driven', 'fuel', 'seller_type', 'transmission', 'owner'], dtype='object')"
      ]
     },
     "execution_count": 14,
     "metadata": {},
     "output_type": "execute_result"
    }
   ],
   "source": [
    "X.columns"
   ]
  },
  {
   "cell_type": "code",
   "execution_count": 27,
   "metadata": {},
   "outputs": [],
   "source": [
    "X=pd.get_dummies(dataset[['year',\n",
    "                          'km_driven',\n",
    "                          'fuel', \n",
    "                          'seller_type', \n",
    "                          'transmission',\n",
    "                          'owner']],\n",
    "                drop_first=True)"
   ]
  },
  {
   "cell_type": "code",
   "execution_count": 28,
   "metadata": {},
   "outputs": [
    {
     "data": {
      "text/html": [
       "<div>\n",
       "<style scoped>\n",
       "    .dataframe tbody tr th:only-of-type {\n",
       "        vertical-align: middle;\n",
       "    }\n",
       "\n",
       "    .dataframe tbody tr th {\n",
       "        vertical-align: top;\n",
       "    }\n",
       "\n",
       "    .dataframe thead th {\n",
       "        text-align: right;\n",
       "    }\n",
       "</style>\n",
       "<table border=\"1\" class=\"dataframe\">\n",
       "  <thead>\n",
       "    <tr style=\"text-align: right;\">\n",
       "      <th></th>\n",
       "      <th>year</th>\n",
       "      <th>km_driven</th>\n",
       "      <th>fuel_Diesel</th>\n",
       "      <th>fuel_Electric</th>\n",
       "      <th>fuel_LPG</th>\n",
       "      <th>fuel_Petrol</th>\n",
       "      <th>seller_type_Individual</th>\n",
       "      <th>seller_type_Trustmark Dealer</th>\n",
       "      <th>transmission_Manual</th>\n",
       "      <th>owner_Fourth &amp; Above Owner</th>\n",
       "      <th>owner_Second Owner</th>\n",
       "      <th>owner_Test Drive Car</th>\n",
       "      <th>owner_Third Owner</th>\n",
       "    </tr>\n",
       "  </thead>\n",
       "  <tbody>\n",
       "    <tr>\n",
       "      <th>0</th>\n",
       "      <td>2007</td>\n",
       "      <td>70000</td>\n",
       "      <td>0</td>\n",
       "      <td>0</td>\n",
       "      <td>0</td>\n",
       "      <td>1</td>\n",
       "      <td>1</td>\n",
       "      <td>0</td>\n",
       "      <td>1</td>\n",
       "      <td>0</td>\n",
       "      <td>0</td>\n",
       "      <td>0</td>\n",
       "      <td>0</td>\n",
       "    </tr>\n",
       "    <tr>\n",
       "      <th>1</th>\n",
       "      <td>2007</td>\n",
       "      <td>50000</td>\n",
       "      <td>0</td>\n",
       "      <td>0</td>\n",
       "      <td>0</td>\n",
       "      <td>1</td>\n",
       "      <td>1</td>\n",
       "      <td>0</td>\n",
       "      <td>1</td>\n",
       "      <td>0</td>\n",
       "      <td>0</td>\n",
       "      <td>0</td>\n",
       "      <td>0</td>\n",
       "    </tr>\n",
       "    <tr>\n",
       "      <th>2</th>\n",
       "      <td>2012</td>\n",
       "      <td>100000</td>\n",
       "      <td>1</td>\n",
       "      <td>0</td>\n",
       "      <td>0</td>\n",
       "      <td>0</td>\n",
       "      <td>1</td>\n",
       "      <td>0</td>\n",
       "      <td>1</td>\n",
       "      <td>0</td>\n",
       "      <td>0</td>\n",
       "      <td>0</td>\n",
       "      <td>0</td>\n",
       "    </tr>\n",
       "    <tr>\n",
       "      <th>3</th>\n",
       "      <td>2017</td>\n",
       "      <td>46000</td>\n",
       "      <td>0</td>\n",
       "      <td>0</td>\n",
       "      <td>0</td>\n",
       "      <td>1</td>\n",
       "      <td>1</td>\n",
       "      <td>0</td>\n",
       "      <td>1</td>\n",
       "      <td>0</td>\n",
       "      <td>0</td>\n",
       "      <td>0</td>\n",
       "      <td>0</td>\n",
       "    </tr>\n",
       "    <tr>\n",
       "      <th>4</th>\n",
       "      <td>2014</td>\n",
       "      <td>141000</td>\n",
       "      <td>1</td>\n",
       "      <td>0</td>\n",
       "      <td>0</td>\n",
       "      <td>0</td>\n",
       "      <td>1</td>\n",
       "      <td>0</td>\n",
       "      <td>1</td>\n",
       "      <td>0</td>\n",
       "      <td>1</td>\n",
       "      <td>0</td>\n",
       "      <td>0</td>\n",
       "    </tr>\n",
       "  </tbody>\n",
       "</table>\n",
       "</div>"
      ],
      "text/plain": [
       "   year  km_driven  fuel_Diesel  fuel_Electric  fuel_LPG  fuel_Petrol  \\\n",
       "0  2007      70000            0              0         0            1   \n",
       "1  2007      50000            0              0         0            1   \n",
       "2  2012     100000            1              0         0            0   \n",
       "3  2017      46000            0              0         0            1   \n",
       "4  2014     141000            1              0         0            0   \n",
       "\n",
       "   seller_type_Individual  seller_type_Trustmark Dealer  transmission_Manual  \\\n",
       "0                       1                             0                    1   \n",
       "1                       1                             0                    1   \n",
       "2                       1                             0                    1   \n",
       "3                       1                             0                    1   \n",
       "4                       1                             0                    1   \n",
       "\n",
       "   owner_Fourth & Above Owner  owner_Second Owner  owner_Test Drive Car  \\\n",
       "0                           0                   0                     0   \n",
       "1                           0                   0                     0   \n",
       "2                           0                   0                     0   \n",
       "3                           0                   0                     0   \n",
       "4                           0                   1                     0   \n",
       "\n",
       "   owner_Third Owner  \n",
       "0                  0  \n",
       "1                  0  \n",
       "2                  0  \n",
       "3                  0  \n",
       "4                  0  "
      ]
     },
     "execution_count": 28,
     "metadata": {},
     "output_type": "execute_result"
    }
   ],
   "source": [
    "X.head()"
   ]
  },
  {
   "cell_type": "markdown",
   "metadata": {
    "colab_type": "text",
    "id": "WemVnqgeA70k"
   },
   "source": [
    "## Splitting the dataset into the Training set and Test set\n",
    "- Random State 20"
   ]
  },
  {
   "cell_type": "code",
   "execution_count": 29,
   "metadata": {},
   "outputs": [],
   "source": [
    "from sklearn.model_selection import train_test_split\n",
    "X_train,X_rest,y_train,y_rest=train_test_split(X,y,\n",
    "                                              test_size=.2,\n",
    "                                              random_state=20)"
   ]
  },
  {
   "cell_type": "code",
   "execution_count": 30,
   "metadata": {},
   "outputs": [],
   "source": [
    "X_test,X_val,y_test,y_val=train_test_split(X_rest,y_rest,\n",
    "                                          test_size=.5,\n",
    "                                          random_state=20)"
   ]
  },
  {
   "cell_type": "markdown",
   "metadata": {
    "colab_type": "text",
    "id": "k-McZVsQBINc"
   },
   "source": [
    "## Training the Multiple Linear Regression model on the Training set"
   ]
  },
  {
   "cell_type": "code",
   "execution_count": 31,
   "metadata": {},
   "outputs": [
    {
     "data": {
      "text/plain": [
       "LinearRegression()"
      ]
     },
     "execution_count": 31,
     "metadata": {},
     "output_type": "execute_result"
    }
   ],
   "source": [
    "from sklearn.linear_model import LinearRegression\n",
    "regressor=LinearRegression()\n",
    "regressor.fit(X_train.values,y_train)"
   ]
  },
  {
   "cell_type": "markdown",
   "metadata": {},
   "source": [
    "## Intercept and Coefficient"
   ]
  },
  {
   "cell_type": "code",
   "execution_count": 32,
   "metadata": {},
   "outputs": [
    {
     "name": "stdout",
     "output_type": "stream",
     "text": [
      "The coefficients are: [[ 3.62245575e+04 -8.31584195e-01  2.88702246e+05  1.60071068e-10\n",
      "   4.65464254e+04  2.64057958e+03 -6.04980455e+04  1.71882689e+05\n",
      "  -8.64323880e+05 -3.50851884e+03 -4.04890692e+04  1.83178786e+05\n",
      "  -2.83903020e+04]]\n",
      "The intercept is: [-71683645.58006921]\n"
     ]
    }
   ],
   "source": [
    "print(f'The coefficients are: {regressor.coef_}')\n",
    "print(f'The intercept is: {regressor.intercept_}')"
   ]
  },
  {
   "cell_type": "code",
   "execution_count": 33,
   "metadata": {},
   "outputs": [
    {
     "data": {
      "text/plain": [
       "Index(['year', 'km_driven', 'fuel_Diesel', 'fuel_Electric', 'fuel_LPG',\n",
       "       'fuel_Petrol', 'seller_type_Individual', 'seller_type_Trustmark Dealer',\n",
       "       'transmission_Manual', 'owner_Fourth & Above Owner',\n",
       "       'owner_Second Owner', 'owner_Test Drive Car', 'owner_Third Owner'],\n",
       "      dtype='object')"
      ]
     },
     "execution_count": 33,
     "metadata": {},
     "output_type": "execute_result"
    }
   ],
   "source": [
    "X_train.columns"
   ]
  },
  {
   "cell_type": "markdown",
   "metadata": {},
   "source": [
    "### When we match the coefficients to the variables in order, we have the formula for predicting Selling Price based on these variables.\n",
    "### The formula is: -71683645.6 + 3.6(Year) - 8.3(KM Driven) + 2.9(Fuel Diesel) + 1.6(Fuel Electric) - 4.7(Fuel LPG) - 2.6(Fuel Petrol) - 6.0(Seller:Individual) + 1.7(Seller:TrustmarkDealer) - 8.65(Transmission:Manual) - 3.5(Fourth&Above Owner) - 4.0(Second Owner) + 1.8(Test Drive Car) - 2.8(Third Owner)"
   ]
  },
  {
   "cell_type": "markdown",
   "metadata": {
    "colab_type": "text",
    "id": "xNkXL1YQBiBT"
   },
   "source": [
    "## Validation Set"
   ]
  },
  {
   "cell_type": "code",
   "execution_count": 36,
   "metadata": {},
   "outputs": [],
   "source": [
    "y_predval=regressor.predict(X_val.values)\n",
    "y_validate=y_val.to_numpy()"
   ]
  },
  {
   "cell_type": "code",
   "execution_count": 39,
   "metadata": {},
   "outputs": [
    {
     "data": {
      "text/plain": [
       "array([[ 280944.,  350000.],\n",
       "       [ 821100.,  780000.],\n",
       "       [ 465916.,  434999.],\n",
       "       [ 644135.,  425000.],\n",
       "       [ 425422.,  280000.],\n",
       "       [1317666.,  850000.],\n",
       "       [ 163473.,  120000.],\n",
       "       [ 357444.,  250000.],\n",
       "       [ 465344.,  198000.],\n",
       "       [ 182292.,  120000.],\n",
       "       [ 432081.,  350000.],\n",
       "       [ 464254.,  125000.],\n",
       "       [ 146019.,  225000.],\n",
       "       [ 236403.,  300000.],\n",
       "       [ 582334.,  490000.],\n",
       "       [1310282.,  750000.],\n",
       "       [ 163473.,  175000.],\n",
       "       [ 289260.,  164000.],\n",
       "       [ 601309.,  525000.],\n",
       "       [ 511497.,  550000.],\n",
       "       [ 302981.,  229999.],\n",
       "       [ 477193.,  350000.],\n",
       "       [ 402091.,  270000.],\n",
       "       [ 615704.,  250000.],\n",
       "       [ -25484.,   75000.],\n",
       "       [ 370909.,  220000.],\n",
       "       [ 510765.,  550000.],\n",
       "       [ 380528.,  160000.],\n",
       "       [  37858.,   80000.],\n",
       "       [1491394., 1750000.],\n",
       "       [ 115149.,  210000.],\n",
       "       [   4453.,   80000.],\n",
       "       [ 288586.,  450000.],\n",
       "       [ 629335.,  415000.],\n",
       "       [ 487014.,  700000.],\n",
       "       [ 731958.,  700000.],\n",
       "       [ 112863.,  160000.],\n",
       "       [ 482856.,  650000.],\n",
       "       [ 500479.,  349000.],\n",
       "       [ 491172.,  570000.],\n",
       "       [1244411.,  450000.],\n",
       "       [1697898., 3800000.],\n",
       "       [ 424587.,  220000.],\n",
       "       [1310956.,  900000.],\n",
       "       [ 419232.,  350000.],\n",
       "       [ 206418.,   45000.],\n",
       "       [1598680., 2750000.],\n",
       "       [-369440.,   85000.],\n",
       "       [ 162651.,  200999.],\n",
       "       [ 637791.,  400000.],\n",
       "       [ 788511.,  650000.],\n",
       "       [-126389.,  310000.],\n",
       "       [ -87138.,  120000.],\n",
       "       [ 610499.,  320000.],\n",
       "       [ 449284.,  239000.],\n",
       "       [  68637.,   80000.],\n",
       "       [  91024.,   70000.],\n",
       "       [ 115149.,  160000.],\n",
       "       [-195812.,   35000.],\n",
       "       [1338864.,  300000.],\n",
       "       [ 563621.,  347000.],\n",
       "       [  -7195.,   85000.],\n",
       "       [ 285102.,  170000.],\n",
       "       [ 764760., 1150000.],\n",
       "       [ 542058.,  173000.],\n",
       "       [ 363415.,  300000.],\n",
       "       [ 543770.,  930000.],\n",
       "       [ 497518.,  320000.],\n",
       "       [ 649973.,  409999.],\n",
       "       [ 649354.,  670000.],\n",
       "       [1344685.,  600000.],\n",
       "       [1575396., 2750000.],\n",
       "       [ 243416.,  290000.],\n",
       "       [ 727030.,  585000.],\n",
       "       [ 489202.,  295000.],\n",
       "       [ 417526.,  160000.],\n",
       "       [ 265027.,   75000.],\n",
       "       [ 731497., 1200000.],\n",
       "       [ 296888.,  630000.],\n",
       "       [ 800985.,  900000.],\n",
       "       [ 425842.,  619000.],\n",
       "       [ 785707.,  950000.],\n",
       "       [ 397933.,  250000.],\n",
       "       [ 402091.,  600000.],\n",
       "       [ 748128.,  819999.],\n",
       "       [1604136.,  675000.],\n",
       "       [ 800985., 1900000.],\n",
       "       [ 372986.,  370000.],\n",
       "       [ 458431.,  625000.],\n",
       "       [ 563621.,  520000.],\n",
       "       [ 235100.,  350000.],\n",
       "       [ 630197.,  325000.],\n",
       "       [ 114376.,   75000.],\n",
       "       [ 266415.,  235000.],\n",
       "       [ 433952.,  180000.],\n",
       "       [ 178193.,  180000.],\n",
       "       [  37858.,   80000.],\n",
       "       [ 464254.,  130000.],\n",
       "       [ 348403.,  565000.],\n",
       "       [ 760602.,  640000.],\n",
       "       [  78925.,  150000.],\n",
       "       [ 496214.,  450000.],\n",
       "       [ 740335.,  525000.],\n",
       "       [  62400.,  125000.],\n",
       "       [ 625458.,  600000.],\n",
       "       [ -70025.,  100000.],\n",
       "       [ 497151.,  595000.],\n",
       "       [ 396612.,  320000.],\n",
       "       [ 433278.,  300000.],\n",
       "       [ 294245.,  200000.],\n",
       "       [  92687.,  233000.],\n",
       "       [ 565568., 1000000.],\n",
       "       [ 924189.,  225000.],\n",
       "       [  27945.,   70000.],\n",
       "       [ 124769.,  350000.],\n",
       "       [ 512119., 1025000.],\n",
       "       [1281850.,  450000.],\n",
       "       [ 457029.,  320000.],\n",
       "       [ 473660.,  409999.],\n",
       "       [ 307597.,   70000.],\n",
       "       [  37858.,   80000.],\n",
       "       [ 525426.,  300000.],\n",
       "       [  37447.,  550000.],\n",
       "       [ 428030.,  160000.],\n",
       "       [ 669858.,  900000.],\n",
       "       [ 544331.,  260000.],\n",
       "       [ -78341.,   79000.],\n",
       "       [ 525893.,  350000.],\n",
       "       [ 250958.,  125000.],\n",
       "       [ 280837.,  300000.],\n",
       "       [ 639612.,  421000.],\n",
       "       [1659645., 2675000.],\n",
       "       [  21237.,  190000.],\n",
       "       [ 586744.,  390000.],\n",
       "       [-178698.,   68000.],\n",
       "       [ 456770.,  225000.],\n",
       "       [ 118111.,  150000.],\n",
       "       [  -6439.,   95000.],\n",
       "       [ 564612.,  350000.],\n",
       "       [1461733., 4000000.],\n",
       "       [ 259274.,  300000.],\n",
       "       [ 242781.,  275000.],\n",
       "       [ -90921.,   90000.],\n",
       "       [ 519081.,  810000.],\n",
       "       [ 506977.,  310000.],\n",
       "       [ 241393.,  330000.],\n",
       "       [ 489202.,  449000.],\n",
       "       [ 459560.,  396000.],\n",
       "       [ 484016.,  225000.],\n",
       "       [ 325535.,  525000.],\n",
       "       [ 108137.,  114999.],\n",
       "       [ 417526.,  300000.],\n",
       "       [ 709044.,  750000.],\n",
       "       [1375187.,  520000.],\n",
       "       [ 472570.,  250000.],\n",
       "       [ 642416.,  869999.],\n",
       "       [ 574018.,  640000.],\n",
       "       [ 255996.,  350000.],\n",
       "       [ 507961.,  430999.],\n",
       "       [ 333800.,  210000.],\n",
       "       [ 683832.,  490000.],\n",
       "       [ 622823.,  420000.],\n",
       "       [ 260154.,  350000.],\n",
       "       [-207089.,   85000.],\n",
       "       [ 582334.,  350000.],\n",
       "       [ 487014.,  434999.],\n",
       "       [1453575., 1580000.],\n",
       "       [ 650732., 1300000.],\n",
       "       [  54025.,   80000.],\n",
       "       [ 809300., 1400000.],\n",
       "       [ 476204.,  475000.],\n",
       "       [  42700.,   91200.],\n",
       "       [ 461293.,  350000.],\n",
       "       [ 424587.,  175000.],\n",
       "       [ 521162.,  600000.],\n",
       "       [  18575.,  190000.],\n",
       "       [ 118867.,  165000.],\n",
       "       [ 571980.,  400000.],\n",
       "       [ 382858.,  250000.],\n",
       "       [ 659048.,  500000.],\n",
       "       [   6476.,  100000.],\n",
       "       [ 293575.,  235000.],\n",
       "       [ 220969.,  145000.],\n",
       "       [ 483741.,  725000.],\n",
       "       [  90202.,  254999.],\n",
       "       [ 504144.,  670000.],\n",
       "       [ 399574.,  390000.],\n",
       "       [ 517110.,  349000.],\n",
       "       [ 819911., 1150000.],\n",
       "       [ -18472.,  160000.],\n",
       "       [  30227.,  650000.],\n",
       "       [ 212810.,  175000.],\n",
       "       [ 722872.,  600000.],\n",
       "       [ 242019.,   89999.],\n",
       "       [ 643613.,  715000.],\n",
       "       [ 501569.,  620000.],\n",
       "       [ 813410.,   85000.],\n",
       "       [ 674016.,  509999.],\n",
       "       [ 624486.,  650000.],\n",
       "       [ 764760.,  680000.],\n",
       "       [ 489202.,  300000.],\n",
       "       [ 866867.,  750000.],\n",
       "       [1411021.,  525000.],\n",
       "       [ 968399.,  700000.],\n",
       "       [ 376264.,  350000.],\n",
       "       [ 367851.,  696000.],\n",
       "       [ 549175.,  890000.],\n",
       "       [1491827., 1490000.],\n",
       "       [1604136., 1400000.],\n",
       "       [ 391805.,  400000.],\n",
       "       [ 448713.,  312000.],\n",
       "       [ 752444.,  880000.],\n",
       "       [  74326.,  200000.],\n",
       "       [ 568197.,  530000.],\n",
       "       [ 466225.,  200000.],\n",
       "       [ 402091.,  350000.],\n",
       "       [ 498291.,  265000.],\n",
       "       [-152093.,  125000.],\n",
       "       [ 538990.,  300000.],\n",
       "       [ 436229.,  400000.],\n",
       "       [1325230.,  950000.],\n",
       "       [ 356678.,  475000.],\n",
       "       [ 433384.,  300000.],\n",
       "       [1367387.,  550000.],\n",
       "       [1375187.,  520000.],\n",
       "       [ 764740.,  840000.],\n",
       "       [ 395481.,  260000.],\n",
       "       [ 607388.,  400000.],\n",
       "       [ 642416.,  650000.],\n",
       "       [ 489095.,  340000.],\n",
       "       [ 683057.,  800000.],\n",
       "       [ 568253.,  550000.],\n",
       "       [ 734614.,  585000.],\n",
       "       [1567912., 1200000.],\n",
       "       [ 487172.,  525000.],\n",
       "       [ 574018.,  350000.],\n",
       "       [ 866867.,  750000.],\n",
       "       [ 227314.,  100000.],\n",
       "       [  53618.,   60000.],\n",
       "       [ 388362.,  170000.],\n",
       "       [ 533742.,  250999.],\n",
       "       [ 155639.,  409999.],\n",
       "       [ 473660.,  400000.],\n",
       "       [ 810964.,  700000.],\n",
       "       [ 655980.,  610000.],\n",
       "       [ 561651.,  800000.],\n",
       "       [ 639348.,  350000.],\n",
       "       [ 195280.,  229999.],\n",
       "       [ 618665., 1125000.],\n",
       "       [ 683995.,  600000.],\n",
       "       [ 450790.,  350000.],\n",
       "       [ 528478.,  425000.],\n",
       "       [ 465344.,  200000.],\n",
       "       [ 662009.,  550000.],\n",
       "       [ 242642.,  225000.],\n",
       "       [ 514923.,  500000.],\n",
       "       [ 519081.,  300000.],\n",
       "       [1313037., 1350000.],\n",
       "       [ 482856., 1200000.],\n",
       "       [ 887543.,  770000.],\n",
       "       [ 349235.,  600000.],\n",
       "       [ 417526.,  210000.],\n",
       "       [1644210., 1050000.],\n",
       "       [ 678640.,  370000.],\n",
       "       [ 428030.,  195000.],\n",
       "       [ 276679.,  351000.],\n",
       "       [1633242.,  950000.],\n",
       "       [ 465446.,  509999.],\n",
       "       [ 434158.,  350000.],\n",
       "       [ 386541.,  220000.],\n",
       "       [ 564668.,  565000.],\n",
       "       [ 118111.,  300000.],\n",
       "       [ 739812.,  850000.],\n",
       "       [ 654783.,  890000.],\n",
       "       [ 512846.,  600000.],\n",
       "       [ -33800.,  250000.],\n",
       "       [ 388108., 1030000.],\n",
       "       [ 530234.,  250000.],\n",
       "       [ 651821., 1800000.],\n",
       "       [ 489202.,  550000.],\n",
       "       [ 406363.,  575000.],\n",
       "       [ 678640.,  750000.],\n",
       "       [ 155392.,  370000.],\n",
       "       [  55281.,  135000.],\n",
       "       [ 218517.,  110000.],\n",
       "       [ 396793.,  690000.],\n",
       "       [ 405122.,  530000.],\n",
       "       [ 402091.,  425000.],\n",
       "       [ 312904.,  250000.],\n",
       "       [ 393775.,  620000.],\n",
       "       [ 419607.,  290000.],\n",
       "       [1377559.,  350000.],\n",
       "       [ 272319.,  180000.],\n",
       "       [ 464254.,  225000.],\n",
       "       [  80067.,  160000.],\n",
       "       [ 296272.,  300000.],\n",
       "       [ -51735.,   60000.],\n",
       "       [ 462067.,  183000.],\n",
       "       [ 146019.,  225000.],\n",
       "       [ 586117.,  450000.],\n",
       "       [ 435286.,  530000.],\n",
       "       [ 501569.,  775000.],\n",
       "       [ 655222.,  585000.],\n",
       "       [ 556659.,  425000.],\n",
       "       [ 650045.,  650000.],\n",
       "       [ 294333.,   75000.],\n",
       "       [ 730222., 1000000.],\n",
       "       [ 115149.,   99000.],\n",
       "       [  53977.,  114999.],\n",
       "       [ 756444., 1250000.],\n",
       "       [ 716062.,  925000.],\n",
       "       [ 417526.,  150000.],\n",
       "       [ 558690.,  320000.],\n",
       "       [  34384.,  120000.],\n",
       "       [ 325484.,  275000.],\n",
       "       [ 486101.,  325000.],\n",
       "       [ 260048.,  240000.],\n",
       "       [ 360405.,  600000.],\n",
       "       [ 726841., 1490000.],\n",
       "       [ 711904.,  800000.],\n",
       "       [ 824681., 1490000.],\n",
       "       [ 478698.,  600000.],\n",
       "       [ 273460.,  290000.],\n",
       "       [ -62256.,  175000.],\n",
       "       [1687919., 3899000.],\n",
       "       [ 460928.,  300000.],\n",
       "       [-182963.,   80000.],\n",
       "       [ 870630., 1295000.],\n",
       "       [ 145246.,  350000.],\n",
       "       [  43456.,  110000.],\n",
       "       [ 265509.,  210000.],\n",
       "       [ 268004.,  155000.],\n",
       "       [ 622823.,  950000.],\n",
       "       [ 442940.,  550000.],\n",
       "       [ 617468.,  525000.],\n",
       "       [ 287939.,  100000.],\n",
       "       [ 200179.,  250000.],\n",
       "       [ 466225.,  275000.],\n",
       "       [ 480886.,  500000.],\n",
       "       [1375187.,  520000.],\n",
       "       [ 147323.,   80000.],\n",
       "       [  21536.,  120000.],\n",
       "       [ 489144.,  550000.],\n",
       "       [ 292221.,  500000.],\n",
       "       [ 109795.,  147000.],\n",
       "       [ 609518.,  450000.],\n",
       "       [ 343000.,  150000.],\n",
       "       [ 354950.,  440000.],\n",
       "       [1479546., 2300000.],\n",
       "       [ 657019.,  744000.],\n",
       "       [ 523239.,  550000.],\n",
       "       [ 733941.,  825000.],\n",
       "       [ 558690.,  300000.],\n",
       "       [ 657238.,  470000.],\n",
       "       [ -74049.,   85000.],\n",
       "       [ 529478.,  550000.],\n",
       "       [1442880.,  735000.],\n",
       "       [ 143058.,  250000.],\n",
       "       [ 398771.,  470000.],\n",
       "       [-120401.,   51111.],\n",
       "       [ 107590.,  120000.],\n",
       "       [ 600370.,  550000.],\n",
       "       [ 392099.,  330000.],\n",
       "       [ 108137.,  150000.],\n",
       "       [  56635.,  125000.],\n",
       "       [1775644., 2595000.],\n",
       "       [ 216811.,  225000.],\n",
       "       [ 810624.,  541000.],\n",
       "       [ 581300.,  385000.],\n",
       "       [ 127730.,  300000.],\n",
       "       [ 240455.,  250000.],\n",
       "       [ 311814.,  400000.],\n",
       "       [1363138.,  635000.],\n",
       "       [ 723181.,  500000.],\n",
       "       [  29030.,  300000.],\n",
       "       [ 367948.,  300000.],\n",
       "       [ 158656.,  110000.],\n",
       "       [ 648703.,  660000.],\n",
       "       [ 341342.,  250000.],\n",
       "       [ 470382.,  245000.],\n",
       "       [1394964.,  600000.],\n",
       "       [ 727113.,  675000.],\n",
       "       [ 560454.,  800000.],\n",
       "       [ 365867.,  850000.],\n",
       "       [ 574840.,  185000.],\n",
       "       [ 434591.,  320000.],\n",
       "       [ 123465.,  130000.],\n",
       "       [1360163., 1200000.],\n",
       "       [ 327565.,  500000.],\n",
       "       [ -87138.,  100000.],\n",
       "       [ 423765.,  200000.],\n",
       "       [ 469127.,  215000.],\n",
       "       [ 751146.,  790000.],\n",
       "       [ 226784.,  180000.],\n",
       "       [ 472023.,  290000.],\n",
       "       [ 752286.,  800000.],\n",
       "       [ 625850.,  750000.],\n",
       "       [ 699019.,  465000.],\n",
       "       [ 210463.,  300000.],\n",
       "       [ -13117.,   90000.],\n",
       "       [-315762.,   42000.],\n",
       "       [ 439307.,  375000.],\n",
       "       [ 397933.,  300000.],\n",
       "       [ 357551.,  300000.],\n",
       "       [ 370158.,  350000.],\n",
       "       [ 465344.,  220000.],\n",
       "       [ 450016.,  400000.],\n",
       "       [ 581609.,  305000.],\n",
       "       [ 246377.,  250000.],\n",
       "       [ 521162.,  495000.],\n",
       "       [ 434317.,  250000.],\n",
       "       [ 494133.,  875000.],\n",
       "       [ 337646.,  270000.],\n",
       "       [ 172270.,  250000.],\n",
       "       [ 243210.,  300000.],\n",
       "       [-118830.,  155000.],\n",
       "       [ 821100.,  780000.],\n",
       "       [ 305217.,  240000.],\n",
       "       [1697898., 3800000.],\n",
       "       [ 398508.,  150000.],\n",
       "       [  63049.,  130000.],\n",
       "       [ 613260.,  850000.],\n",
       "       [ 275906.,  250000.],\n",
       "       [ 686098.,  650000.],\n",
       "       [ 448713.,  200000.],\n",
       "       [  31680.,  175000.],\n",
       "       [ 817774.,  750000.],\n",
       "       [ 525426.,  390000.],\n",
       "       [ 494450.,  250999.],\n",
       "       [ 605710.,  240000.],\n",
       "       [   6832.,   78000.],\n",
       "       [ 446525.,  450000.],\n",
       "       [ 172270.,  180000.],\n",
       "       [ 619446.,  450000.]])"
      ]
     },
     "execution_count": 39,
     "metadata": {},
     "output_type": "execute_result"
    }
   ],
   "source": [
    "np.hstack((y_predval,y_validate)).round()"
   ]
  },
  {
   "cell_type": "markdown",
   "metadata": {
    "colab_type": "text",
    "id": "xNkXL1YQBiBT"
   },
   "source": [
    "## Predicting the Test set results"
   ]
  },
  {
   "cell_type": "code",
   "execution_count": 40,
   "metadata": {},
   "outputs": [],
   "source": [
    "y_pred=regressor.predict(X_test.values)"
   ]
  },
  {
   "cell_type": "markdown",
   "metadata": {},
   "source": [
    "### Calculate RMSE, R-Square"
   ]
  },
  {
   "cell_type": "code",
   "execution_count": 46,
   "metadata": {},
   "outputs": [
    {
     "name": "stdout",
     "output_type": "stream",
     "text": [
      "Mean Squared Error (MSE): 154171100550.96\n",
      "Root Mean Squared Error (RMSE): 392646.28\n",
      "R-Squared: -0.05\n"
     ]
    }
   ],
   "source": [
    "from sklearn.metrics import mean_squared_error, r2_score\n",
    "import math\n",
    "print(f'Mean Squared Error (MSE): {mean_squared_error(y_pred,y_test):.2f}')\n",
    "print(f'Root Mean Squared Error (RMSE): {math.sqrt(mean_squared_error(y_pred,y_test)):.2f}')\n",
    "print(f\"R-Squared: {r2_score(y_pred,y_test):.2f}\")"
   ]
  },
  {
   "cell_type": "markdown",
   "metadata": {},
   "source": [
    "## Validation case scenario:\n",
    "#### 1. Predict how much will be the car selling price for a car of \n",
    "- year 2014 \n",
    "- 70000 km driven \n",
    "- fuel type Diesel\n",
    "- Seller type Dealer\n",
    "- manual transmission\n",
    "- first owner\n",
    "\n",
    "** 465000 ** actual\n"
   ]
  },
  {
   "cell_type": "code",
   "execution_count": 47,
   "metadata": {},
   "outputs": [
    {
     "data": {
      "text/html": [
       "<div>\n",
       "<style scoped>\n",
       "    .dataframe tbody tr th:only-of-type {\n",
       "        vertical-align: middle;\n",
       "    }\n",
       "\n",
       "    .dataframe tbody tr th {\n",
       "        vertical-align: top;\n",
       "    }\n",
       "\n",
       "    .dataframe thead th {\n",
       "        text-align: right;\n",
       "    }\n",
       "</style>\n",
       "<table border=\"1\" class=\"dataframe\">\n",
       "  <thead>\n",
       "    <tr style=\"text-align: right;\">\n",
       "      <th></th>\n",
       "      <th>year</th>\n",
       "      <th>km_driven</th>\n",
       "      <th>fuel_Diesel</th>\n",
       "      <th>fuel_Electric</th>\n",
       "      <th>fuel_LPG</th>\n",
       "      <th>fuel_Petrol</th>\n",
       "      <th>seller_type_Individual</th>\n",
       "      <th>seller_type_Trustmark Dealer</th>\n",
       "      <th>transmission_Manual</th>\n",
       "      <th>owner_Fourth &amp; Above Owner</th>\n",
       "      <th>owner_Second Owner</th>\n",
       "      <th>owner_Test Drive Car</th>\n",
       "      <th>owner_Third Owner</th>\n",
       "    </tr>\n",
       "  </thead>\n",
       "  <tbody>\n",
       "    <tr>\n",
       "      <th>2549</th>\n",
       "      <td>2018</td>\n",
       "      <td>26000</td>\n",
       "      <td>1</td>\n",
       "      <td>0</td>\n",
       "      <td>0</td>\n",
       "      <td>0</td>\n",
       "      <td>0</td>\n",
       "      <td>0</td>\n",
       "      <td>1</td>\n",
       "      <td>0</td>\n",
       "      <td>0</td>\n",
       "      <td>0</td>\n",
       "      <td>0</td>\n",
       "    </tr>\n",
       "    <tr>\n",
       "      <th>3500</th>\n",
       "      <td>2002</td>\n",
       "      <td>40000</td>\n",
       "      <td>0</td>\n",
       "      <td>0</td>\n",
       "      <td>0</td>\n",
       "      <td>1</td>\n",
       "      <td>1</td>\n",
       "      <td>0</td>\n",
       "      <td>1</td>\n",
       "      <td>1</td>\n",
       "      <td>0</td>\n",
       "      <td>0</td>\n",
       "      <td>0</td>\n",
       "    </tr>\n",
       "    <tr>\n",
       "      <th>1137</th>\n",
       "      <td>2013</td>\n",
       "      <td>71000</td>\n",
       "      <td>0</td>\n",
       "      <td>0</td>\n",
       "      <td>0</td>\n",
       "      <td>0</td>\n",
       "      <td>1</td>\n",
       "      <td>0</td>\n",
       "      <td>1</td>\n",
       "      <td>0</td>\n",
       "      <td>1</td>\n",
       "      <td>0</td>\n",
       "      <td>0</td>\n",
       "    </tr>\n",
       "    <tr>\n",
       "      <th>761</th>\n",
       "      <td>2019</td>\n",
       "      <td>8000</td>\n",
       "      <td>0</td>\n",
       "      <td>0</td>\n",
       "      <td>0</td>\n",
       "      <td>1</td>\n",
       "      <td>1</td>\n",
       "      <td>0</td>\n",
       "      <td>1</td>\n",
       "      <td>0</td>\n",
       "      <td>0</td>\n",
       "      <td>0</td>\n",
       "      <td>0</td>\n",
       "    </tr>\n",
       "    <tr>\n",
       "      <th>2516</th>\n",
       "      <td>2008</td>\n",
       "      <td>50000</td>\n",
       "      <td>0</td>\n",
       "      <td>0</td>\n",
       "      <td>0</td>\n",
       "      <td>1</td>\n",
       "      <td>1</td>\n",
       "      <td>0</td>\n",
       "      <td>1</td>\n",
       "      <td>0</td>\n",
       "      <td>0</td>\n",
       "      <td>0</td>\n",
       "      <td>0</td>\n",
       "    </tr>\n",
       "  </tbody>\n",
       "</table>\n",
       "</div>"
      ],
      "text/plain": [
       "      year  km_driven  fuel_Diesel  fuel_Electric  fuel_LPG  fuel_Petrol  \\\n",
       "2549  2018      26000            1              0         0            0   \n",
       "3500  2002      40000            0              0         0            1   \n",
       "1137  2013      71000            0              0         0            0   \n",
       "761   2019       8000            0              0         0            1   \n",
       "2516  2008      50000            0              0         0            1   \n",
       "\n",
       "      seller_type_Individual  seller_type_Trustmark Dealer  \\\n",
       "2549                       0                             0   \n",
       "3500                       1                             0   \n",
       "1137                       1                             0   \n",
       "761                        1                             0   \n",
       "2516                       1                             0   \n",
       "\n",
       "      transmission_Manual  owner_Fourth & Above Owner  owner_Second Owner  \\\n",
       "2549                    1                           0                   0   \n",
       "3500                    1                           1                   0   \n",
       "1137                    1                           0                   1   \n",
       "761                     1                           0                   0   \n",
       "2516                    1                           0                   0   \n",
       "\n",
       "      owner_Test Drive Car  owner_Third Owner  \n",
       "2549                     0                  0  \n",
       "3500                     0                  0  \n",
       "1137                     0                  0  \n",
       "761                      0                  0  \n",
       "2516                     0                  0  "
      ]
     },
     "execution_count": 47,
     "metadata": {},
     "output_type": "execute_result"
    }
   ],
   "source": [
    "X_test.head()"
   ]
  },
  {
   "cell_type": "code",
   "execution_count": 49,
   "metadata": {},
   "outputs": [
    {
     "data": {
      "text/plain": [
       "array([[638780.60333154]])"
      ]
     },
     "execution_count": 49,
     "metadata": {},
     "output_type": "execute_result"
    }
   ],
   "source": [
    "regressor.predict([[2014,70000,1,0,0,0,0,0,1,0,0,0,0]])"
   ]
  },
  {
   "cell_type": "markdown",
   "metadata": {},
   "source": [
    "### The predicted price of the described car is 638,780.60 dollars. The actual price of a car with these features in the dataset is 465,000 dollars.\n",
    "#### This model is not very accurate - MSE and RMSE are very high which indicated there is a lot of error between the predicted values and actual values. Additionally, the R2 score is very low, meaning only about 5% of the data is behaving as this regression equation predicts."
   ]
  }
 ],
 "metadata": {
  "colab": {
   "authorship_tag": "ABX9TyPhYhte6t7H4wEK4xPpDWT7",
   "name": "Multiple Linear Regression",
   "provenance": [],
   "toc_visible": true
  },
  "kernelspec": {
   "display_name": "Python 3 (ipykernel)",
   "language": "python",
   "name": "python3"
  },
  "language_info": {
   "codemirror_mode": {
    "name": "ipython",
    "version": 3
   },
   "file_extension": ".py",
   "mimetype": "text/x-python",
   "name": "python",
   "nbconvert_exporter": "python",
   "pygments_lexer": "ipython3",
   "version": "3.9.13"
  }
 },
 "nbformat": 4,
 "nbformat_minor": 1
}
